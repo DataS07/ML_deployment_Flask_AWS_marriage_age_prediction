{
 "cells": [
  {
   "cell_type": "raw",
   "metadata": {},
   "source": [
    "PART 2: End to End Machine Learning Deployment with Flask-AWS\n",
    "\n",
    "1. Spin up an EC2 server\n",
    "2. Configure EC2 with security group and private key\n",
    "3. Install libraries and dependencies on the EC2 server\n",
    "4. Move trained model and app.py flask files to EC2 (winscp)\n",
    "5. Configure flaskapp.wsgi file and Apache vhost file\n",
    "6. Restart apache webserver and Check API status\n",
    "7. Launch a website with domain name and host webpage."
   ]
  },
  {
   "cell_type": "code",
   "execution_count": null,
   "metadata": {},
   "outputs": [],
   "source": []
  },
  {
   "cell_type": "code",
   "execution_count": null,
   "metadata": {},
   "outputs": [],
   "source": []
  },
  {
   "cell_type": "code",
   "execution_count": null,
   "metadata": {},
   "outputs": [],
   "source": []
  },
  {
   "cell_type": "raw",
   "metadata": {},
   "source": [
    "Quick notes:\n",
    "\n",
    "python3 -V\n",
    "get-pip.py\n",
    "\n",
    "curl -O https://bootstrap.pypa.io/get-pip.py\n",
    "\n",
    "\n",
    "update\n",
    "Install Flask, flask_cors, sklearn, apache2 , libapache2-mod-wsgi-py3\n",
    "Configure  /etc/apache2/sites-enabled/000-default.conf\n",
    "-------\n",
    "DocumentRoot /home/ubuntu/mlapp\n",
    "WSGIDaemonProcess flaskapp threads=5 python-home=/usr/local/lib/python3.5/site-packages/ user=ubuntu\n",
    "        WSGIScriptAlias / /home/ubuntu/mlapp/flaskapp.wsgi\n",
    "<Directory /home/ubuntu/mlapp>\n",
    "            WSGIProcessGroup flaskapp\n",
    "            WSGIApplicationGroup %{GLOBAL}\n",
    "            Require all granted\n",
    "        </Directory>\n",
    "-----------------\n",
    "file : Flaskapp.wsgi\n",
    "\n",
    "import sys\n",
    "import site\n",
    "site.addsitedir(‘/home/ubuntu/.local/lib/python3.5/site-packages’)\n",
    "sys.path.insert(0, ‘/home/ubuntu/mlapp’)\n",
    "from app import app as application\n",
    "------------\n",
    "app.py\n",
    "sudo apachectl restart\n",
    "\n",
    "\n",
    "http://13.250.101.192/predict?gender=1&caste=2&religion=2&mother_tongue=5&country=4&height_cms=176\n",
    "\n",
    "\n"
   ]
  }
 ],
 "metadata": {
  "kernelspec": {
   "display_name": "Python 3",
   "language": "python",
   "name": "python3"
  },
  "language_info": {
   "codemirror_mode": {
    "name": "ipython",
    "version": 3
   },
   "file_extension": ".py",
   "mimetype": "text/x-python",
   "name": "python",
   "nbconvert_exporter": "python",
   "pygments_lexer": "ipython3",
   "version": "3.7.3"
  }
 },
 "nbformat": 4,
 "nbformat_minor": 2
}
